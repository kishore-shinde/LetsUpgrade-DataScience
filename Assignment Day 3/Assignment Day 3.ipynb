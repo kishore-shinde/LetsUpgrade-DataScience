{
 "cells": [
  {
   "cell_type": "code",
   "execution_count": 1,
   "metadata": {},
   "outputs": [],
   "source": [
    "import numpy as np;"
   ]
  },
  {
   "cell_type": "raw",
   "metadata": {},
   "source": [
    "Q1 : Create a numpy array starting from 2 till 50 with a stepsize of 3"
   ]
  },
  {
   "cell_type": "code",
   "execution_count": 2,
   "metadata": {},
   "outputs": [
    {
     "name": "stdout",
     "output_type": "stream",
     "text": [
      "[ 2  5  8 11 14 17 20 23 26 29 32 35 38 41 44 47 50]\n"
     ]
    }
   ],
   "source": [
    "print(np.arange(2,51,3))"
   ]
  },
  {
   "cell_type": "raw",
   "metadata": {},
   "source": [
    "Q2 : Accept two lists of 5 elements each from the user.\n",
    "     Convert them to numpy arrays. Concatenate these arrays and print it. Also sort these arrays and print it."
   ]
  },
  {
   "cell_type": "code",
   "execution_count": 21,
   "metadata": {},
   "outputs": [
    {
     "name": "stdout",
     "output_type": "stream",
     "text": [
      "Enter Numbers for First List :5\n",
      "Enter Numbers for First List :3\n",
      "Enter Numbers for First List :6\n",
      "Enter Numbers for First List :2\n",
      "Enter Numbers for First List :8\n",
      "Enter Numbers for Second List :12\n",
      "Enter Numbers for Second List :24\n",
      "Enter Numbers for Second List :30\n",
      "Enter Numbers for Second List :4\n",
      "Enter Numbers for Second List :7\n",
      "Concatenated Arrays : [ 5  3  6  2  8 12 24 30  4  7]\n",
      "Sorted Arrays : [ 2  3  4  5  6  7  8 12 24 30]\n"
     ]
    }
   ],
   "source": [
    "arr1=[] # empty list 1\n",
    "arr2=[] # empty list 2\n",
    "\n",
    "#take input for first list\n",
    "for i in range(5):\n",
    "    no = int(input(\"Enter Numbers for First List :\"))\n",
    "    arr1.append(no) # append to list 1\n",
    "    \n",
    "#take input for second list\n",
    "i=0\n",
    "for i in range(5):\n",
    "    no = int(input(\"Enter Numbers for Second List :\"))\n",
    "    arr2.append(no) # append to list 2\n",
    "    \n",
    "arr1 = np.array(arr1) # lis1 convereted to numpy array\n",
    "arr2 = np.array(arr2) # list2 converetd to numpy array\n",
    "\n",
    "arr3 = np.concatenate((arr1,arr2)) # concatenate two numpy arrays\n",
    "print(\"Concatenated Arrays :\",arr3)\n",
    "arr3 = np.sort((arr3)) # sorted the numpy array\n",
    "print(\"Sorted Arrays :\",arr3)"
   ]
  },
  {
   "cell_type": "markdown",
   "metadata": {},
   "source": [
    "Q3 : Write a code snippet to find the dimensions of a ndarray and its size."
   ]
  },
  {
   "cell_type": "code",
   "execution_count": 23,
   "metadata": {},
   "outputs": [
    {
     "name": "stdout",
     "output_type": "stream",
     "text": [
      "Dimension of array is:  2\n",
      "Size of array is:  9\n"
     ]
    }
   ],
   "source": [
    "#Creating 2D array\n",
    "arr = np.array([[1,2,3],[4,5,6],[9,8,7]]) \n",
    "\n",
    "print(\"Dimension of array is: \",arr.ndim) # Print dimension of array\n",
    "print(\"Size of array is: \",arr.size) # Print size of array"
   ]
  },
  {
   "cell_type": "markdown",
   "metadata": {},
   "source": [
    "Q4 : How to convert a 1D array into a 2D array? Demonstrate with the help of a c Hint: np.newaxis, np.expand_dims"
   ]
  },
  {
   "cell_type": "code",
   "execution_count": 84,
   "metadata": {},
   "outputs": [
    {
     "name": "stdout",
     "output_type": "stream",
     "text": [
      "Array: [0 1 2 3]\n",
      "Array Shape:  (4,)\n",
      "Array Dimension  1\n",
      "New Array: [[0 1 2 3]]\n",
      "Array Shape:  (1, 4)\n",
      "Array Dimemsion changed from 1D to 2D using np.newaxis:  2\n",
      "[[0 1 2 3]]\n",
      "Array Shape:  (1, 4)\n",
      "Array Dimemsion changed from 1D to 2D using np.expand_dims:  2\n"
     ]
    }
   ],
   "source": [
    "#Define 1d array\n",
    "arr=np.arange(4)\n",
    "print(\"Array:\", arr) # print 1D array\n",
    "\n",
    "arr1 = arr.shape\n",
    "print(\"Array Shape: \", arr1) # Print Shape\n",
    "\n",
    "arr1 = arr.ndim\n",
    "print(\"Array Dimension \", arr1) # Print Dimension\n",
    "\n",
    "#using np.newaxis adding new axis along first dimension to make it 2D(row vector)\n",
    "\n",
    "arr_r = arr[np.newaxis, :]\n",
    "print(\"New Array:\", arr_r)\n",
    "\n",
    "arr1 = arr_r.shape\n",
    "print(\"Array Shape changed using np.newaxis: \", arr1) # Print Shape\n",
    "\n",
    "arr1 = arr_r.ndim\n",
    "print(\"Array Dimemsion changed from 1D to 2D using np.newaxis: \",arr1)\n",
    "\n",
    "\n",
    "#using np.expand_dims adding an axis at index position 0 to make it 2D\n",
    "\n",
    "arr_r = np.expand_dims(arr,axis=0) \n",
    "print(arr_r)\n",
    "\n",
    "arr1 = arr_r.shape\n",
    "print(\"Array Shape changed using np.expand_dims: \", arr1) # Print Shape\n",
    "\n",
    "arr1 = arr_r.ndim\n",
    "print(\"Array Dimemsion changed from 1D to 2D using np.expand_dims: \",arr1)"
   ]
  },
  {
   "cell_type": "markdown",
   "metadata": {},
   "source": [
    "Q5:Consider two square numpy. Stack them vertically and horizontally.\n",
    "Hint: Use vstack(), hstack()"
   ]
  },
  {
   "cell_type": "code",
   "execution_count": 95,
   "metadata": {},
   "outputs": [
    {
     "name": "stdout",
     "output_type": "stream",
     "text": [
      "Vertically Stacked:  [[  4  16  36  64]\n",
      " [  9  36  81 144]]\n",
      "Horizontally Stacked:  [  4  16  36  64   9  36  81 144]\n"
     ]
    }
   ],
   "source": [
    "# square numpy 1\n",
    "arr1 = np.square([2,4,6,8]) \n",
    "\n",
    "# square numpy 2\n",
    "arr2 = np.square([3,6,9,12]) \n",
    "\n",
    "print(\"Vertically Stacked: \",np.vstack((arr1,arr2))) # Vertically Stacked\n",
    "\n",
    "print(\"Horizontally Stacked: \",np.hstack((arr1,arr2))) # Horizontally Stacked\n"
   ]
  },
  {
   "cell_type": "markdown",
   "metadata": {},
   "source": [
    "Q6: How to get unique items and counts of unique items?"
   ]
  },
  {
   "cell_type": "code",
   "execution_count": 100,
   "metadata": {},
   "outputs": [
    {
     "name": "stdout",
     "output_type": "stream",
     "text": [
      "Original Items:  [ 2  4  6  8  3  6  4 12]\n",
      "Count of unique values of the array:\n",
      "[[ 2  3  4  6  8 12]\n",
      " [ 1  1  2  2  1  1]]\n"
     ]
    }
   ],
   "source": [
    "# Original items\n",
    "arr1=np.array([2,4,6,8,3,6,4,12])\n",
    "print(\"Original Items: \",arr1)\n",
    "\n",
    "unique_items,counts_items = np.unique(arr1, return_counts=True)\n",
    "\n",
    "print(\"Count of unique values of the array:\")\n",
    "print(np.asarray((unique_items, counts_items)))"
   ]
  }
 ],
 "metadata": {
  "kernelspec": {
   "display_name": "Python 3",
   "language": "python",
   "name": "python3"
  },
  "language_info": {
   "codemirror_mode": {
    "name": "ipython",
    "version": 3
   },
   "file_extension": ".py",
   "mimetype": "text/x-python",
   "name": "python",
   "nbconvert_exporter": "python",
   "pygments_lexer": "ipython3",
   "version": "3.8.3"
  }
 },
 "nbformat": 4,
 "nbformat_minor": 4
}
