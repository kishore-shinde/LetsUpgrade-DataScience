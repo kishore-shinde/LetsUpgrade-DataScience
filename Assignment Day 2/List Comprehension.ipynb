{
 "cells": [
  {
   "cell_type": "raw",
   "metadata": {},
   "source": [
    "Q2 - LIST COMPREHENSION - Short and concise way to construct new sequences such as lists, set, dictionary etc"
   ]
  },
  {
   "cell_type": "raw",
   "metadata": {},
   "source": [
    "Example 1 : Iterating string using For Loop can be made short & simple by using List Comprehension"
   ]
  },
  {
   "cell_type": "code",
   "execution_count": 4,
   "metadata": {},
   "outputs": [
    {
     "name": "stdout",
     "output_type": "stream",
     "text": [
      "['k', 'i', 's', 'h', 'o', 'r', 'e']\n"
     ]
    }
   ],
   "source": [
    "letters=[] # define empty list\n",
    "letters= [letter for letter in 'kishore']\n",
    "print(letters)"
   ]
  },
  {
   "cell_type": "markdown",
   "metadata": {},
   "source": [
    "Example 2 : Get Squares only of even values and add to list using List Comprehension rather than multiple lines in for loop"
   ]
  },
  {
   "cell_type": "code",
   "execution_count": 13,
   "metadata": {},
   "outputs": [
    {
     "name": "stdout",
     "output_type": "stream",
     "text": [
      "[0, 4, 16, 36, 64, 100]\n"
     ]
    }
   ],
   "source": [
    "numbers = range(11) \n",
    "list_add = [l**2 for l in numbers if l%2==0] \n",
    "print(list_add)"
   ]
  },
  {
   "cell_type": "raw",
   "metadata": {},
   "source": [
    "Example 3 : Find Common numbers from list using List Comprehension rather than multiple for loops"
   ]
  },
  {
   "cell_type": "code",
   "execution_count": 15,
   "metadata": {},
   "outputs": [
    {
     "name": "stdout",
     "output_type": "stream",
     "text": [
      "[4, 6, 8]\n"
     ]
    }
   ],
   "source": [
    "list_1=[2,4,6,8,10] # list 1 numbers\n",
    "list_2=[3,4,5,6,8] # list 2 numbers\n",
    "common_no = [l1 for l1 in list_1 for l2 in list_2 if l1==l2]\n",
    "print(common_no)"
   ]
  },
  {
   "cell_type": "raw",
   "metadata": {},
   "source": [
    "Example 4 : Substitute mutiples of 2 & 3 & leave rest as it is will check by replacing the if elif else with List Comprehension"
   ]
  },
  {
   "cell_type": "code",
   "execution_count": 17,
   "metadata": {},
   "outputs": [
    {
     "name": "stdout",
     "output_type": "stream",
     "text": [
      "[1, 0, 1, 0, 5, 0, 7, 0, 1, 0]\n"
     ]
    }
   ],
   "source": [
    "list_1 = [1,2,3,4,5,6,7,8,9,10] #Actual numbers\n",
    "updated_no =[0 if number%2==0 else 1 if number%3==0 else number for number in list_1]\n",
    "print(updated_no)"
   ]
  }
 ],
 "metadata": {
  "kernelspec": {
   "display_name": "Python 3",
   "language": "python",
   "name": "python3"
  },
  "language_info": {
   "codemirror_mode": {
    "name": "ipython",
    "version": 3
   },
   "file_extension": ".py",
   "mimetype": "text/x-python",
   "name": "python",
   "nbconvert_exporter": "python",
   "pygments_lexer": "ipython3",
   "version": "3.8.3"
  }
 },
 "nbformat": 4,
 "nbformat_minor": 4
}
