{
 "cells": [
  {
   "cell_type": "raw",
   "metadata": {},
   "source": [
    "Q1. Create an empty list. Accept 10 numbers from the user and append to it the list if it is an even number.\n"
   ]
  },
  {
   "cell_type": "code",
   "execution_count": 19,
   "metadata": {},
   "outputs": [
    {
     "name": "stdout",
     "output_type": "stream",
     "text": [
      "Enter a number:1\n",
      "Enter a number:2\n",
      "Enter a number:3\n",
      "Enter a number:4\n",
      "Enter a number:5\n",
      "Enter a number:6\n",
      "Enter a number:7\n",
      "Enter a number:8\n",
      "Enter a number:9\n",
      "Enter a number:10\n",
      "[2, 4, 6, 8, 10]\n"
     ]
    }
   ],
   "source": [
    "i=1 #Intialize value of i\n",
    "l=[] # Empty list\n",
    "\n",
    "while i<=10:\n",
    "    no = int(input(\"Enter a number:\"))\n",
    "    if no%2==0: #Check for even number\n",
    "        l.append(no) #Append the even number to list\n",
    "    i= i+1 # increment i \n",
    "    \n",
    "print(l) #print list      "
   ]
  },
  {
   "cell_type": "raw",
   "metadata": {},
   "source": [
    "Q2. List comprehension uploaded the separate notebook"
   ]
  },
  {
   "cell_type": "raw",
   "metadata": {},
   "source": [
    "Q3. Write a prgoram that generates Dictonary data structure"
   ]
  },
  {
   "cell_type": "code",
   "execution_count": 11,
   "metadata": {},
   "outputs": [
    {
     "name": "stdout",
     "output_type": "stream",
     "text": [
      "Input: 8\n",
      "{1: 1, 2: 4, 3: 9, 4: 16, 5: 25, 6: 36, 7: 49, 8: 64}\n"
     ]
    }
   ],
   "source": [
    "dict={} #Empty Dictionary\n",
    "input_num = int(input(\"Input: \"))\n",
    "i=1\n",
    "for i in range(1,input_num+1):\n",
    "    dict[i]=i*i\n",
    "    \n",
    "print(dict)    "
   ]
  },
  {
   "cell_type": "raw",
   "metadata": {},
   "source": [
    "Q4. Print the distance from the original position to the current position."
   ]
  },
  {
   "cell_type": "code",
   "execution_count": 57,
   "metadata": {},
   "outputs": [
    {
     "name": "stdout",
     "output_type": "stream",
     "text": [
      "4\n",
      "UP 5\n",
      "DOWN 3\n",
      "LEFT 3\n",
      "RIGHT 2\n",
      "2\n"
     ]
    }
   ],
   "source": [
    "import math\n",
    "x = y = 0 #//Robot Origin position x and y co-odrinates\n",
    "\n",
    "\n",
    "dir_num = int(input()) #// No. of Directions\n",
    "\n",
    "i=1\n",
    "\n",
    "for i in range(dir_num+1):\n",
    "    if i==1:\n",
    "        y1=int(input(\"UP \"))     \n",
    "    elif i==2:\n",
    "        y2=int(input(\"DOWN \"))\n",
    "    elif i==3:\n",
    "        x1=int(input(\"LEFT \"))\n",
    "    elif i==4:\n",
    "        x2=int(input(\"RIGHT \"))\n",
    "        \n",
    "#Calculating y axis\n",
    "y1=y+y1  #Adding the Up value\n",
    "y1=y1-y2 #Substracting the Down value it \n",
    "\n",
    "#Calculating x axis\n",
    "x1=x-x1  #Substracting the Left Value\n",
    "x1=x1+x2 #Adding the Right value from it\n",
    "\n",
    "#Calculating the distance\n",
    "distance = round(math.sqrt(int(x1**2 + y1**2))) # To calculate the distance & rounding it\n",
    "print(distance)"
   ]
  }
 ],
 "metadata": {
  "kernelspec": {
   "display_name": "Python 3",
   "language": "python",
   "name": "python3"
  },
  "language_info": {
   "codemirror_mode": {
    "name": "ipython",
    "version": 3
   },
   "file_extension": ".py",
   "mimetype": "text/x-python",
   "name": "python",
   "nbconvert_exporter": "python",
   "pygments_lexer": "ipython3",
   "version": "3.8.3"
  }
 },
 "nbformat": 4,
 "nbformat_minor": 4
}
